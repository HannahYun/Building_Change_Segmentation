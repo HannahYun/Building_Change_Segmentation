{
 "cells": [
  {
   "cell_type": "code",
   "execution_count": 2,
   "id": "d0c98af4",
   "metadata": {
    "execution": {
     "iopub.execute_input": "2022-11-13T04:02:33.701597Z",
     "iopub.status.busy": "2022-11-13T04:02:33.700956Z",
     "iopub.status.idle": "2022-11-13T04:02:33.705701Z",
     "shell.execute_reply": "2022-11-13T04:02:33.705148Z",
     "shell.execute_reply.started": "2022-11-13T04:02:33.701573Z"
    }
   },
   "outputs": [],
   "source": [
    "import random\n",
    "import pandas as pd\n",
    "import numpy as np\n",
    "import os\n",
    "import glob\n",
    "import cv2\n",
    "\n",
    "import torch\n",
    "import torch.nn as nn\n",
    "import torch.optim as optim\n",
    "import torch.nn.functional as F\n",
    "import torchvision\n",
    "from torch.utils.data import Dataset, DataLoader\n",
    "\n",
    "import matplotlib.pyplot as plt\n",
    "\n",
    "from tqdm import tqdm\n",
    "from sklearn.metrics import mean_squared_error\n",
    "from sklearn.model_selection import train_test_split\n",
    "from datetime import datetime\n",
    "\n",
    "import warnings\n",
    "warnings.filterwarnings(action='ignore') "
   ]
  },
  {
   "cell_type": "code",
   "execution_count": 4,
   "id": "746e09e5",
   "metadata": {
    "execution": {
     "iopub.execute_input": "2022-11-13T04:03:00.412356Z",
     "iopub.status.busy": "2022-11-13T04:03:00.411784Z",
     "iopub.status.idle": "2022-11-13T04:03:00.656320Z",
     "shell.execute_reply": "2022-11-13T04:03:00.655692Z",
     "shell.execute_reply.started": "2022-11-13T04:03:00.412330Z"
    }
   },
   "outputs": [
    {
     "data": {
      "text/html": [
       "<div>\n",
       "<style scoped>\n",
       "    .dataframe tbody tr th:only-of-type {\n",
       "        vertical-align: middle;\n",
       "    }\n",
       "\n",
       "    .dataframe tbody tr th {\n",
       "        vertical-align: top;\n",
       "    }\n",
       "\n",
       "    .dataframe thead th {\n",
       "        text-align: right;\n",
       "    }\n",
       "</style>\n",
       "<table border=\"1\" class=\"dataframe\">\n",
       "  <thead>\n",
       "    <tr style=\"text-align: right;\">\n",
       "      <th></th>\n",
       "      <th>x</th>\n",
       "      <th>y</th>\n",
       "    </tr>\n",
       "  </thead>\n",
       "  <tbody>\n",
       "    <tr>\n",
       "      <th>0</th>\n",
       "      <td>./data/train/x/2015_DMG_1LB_000006.png</td>\n",
       "      <td>./data/train/y/2015_DMG_1LB_000006.png</td>\n",
       "    </tr>\n",
       "    <tr>\n",
       "      <th>1</th>\n",
       "      <td>./data/train/x/2015_DMG_1LB_000008.png</td>\n",
       "      <td>./data/train/y/2015_DMG_1LB_000008.png</td>\n",
       "    </tr>\n",
       "    <tr>\n",
       "      <th>2</th>\n",
       "      <td>./data/train/x/2015_DMG_1LB_000014.png</td>\n",
       "      <td>./data/train/y/2015_DMG_1LB_000014.png</td>\n",
       "    </tr>\n",
       "    <tr>\n",
       "      <th>3</th>\n",
       "      <td>./data/train/x/2015_DMG_1LB_000016.png</td>\n",
       "      <td>./data/train/y/2015_DMG_1LB_000016.png</td>\n",
       "    </tr>\n",
       "    <tr>\n",
       "      <th>4</th>\n",
       "      <td>./data/train/x/2015_DMG_1LB_000038.png</td>\n",
       "      <td>./data/train/y/2015_DMG_1LB_000038.png</td>\n",
       "    </tr>\n",
       "  </tbody>\n",
       "</table>\n",
       "</div>"
      ],
      "text/plain": [
       "                                        x  \\\n",
       "0  ./data/train/x/2015_DMG_1LB_000006.png   \n",
       "1  ./data/train/x/2015_DMG_1LB_000008.png   \n",
       "2  ./data/train/x/2015_DMG_1LB_000014.png   \n",
       "3  ./data/train/x/2015_DMG_1LB_000016.png   \n",
       "4  ./data/train/x/2015_DMG_1LB_000038.png   \n",
       "\n",
       "                                        y  \n",
       "0  ./data/train/y/2015_DMG_1LB_000006.png  \n",
       "1  ./data/train/y/2015_DMG_1LB_000008.png  \n",
       "2  ./data/train/y/2015_DMG_1LB_000014.png  \n",
       "3  ./data/train/y/2015_DMG_1LB_000016.png  \n",
       "4  ./data/train/y/2015_DMG_1LB_000038.png  "
      ]
     },
     "execution_count": 4,
     "metadata": {},
     "output_type": "execute_result"
    }
   ],
   "source": [
    "x_img_paths = sorted(glob.glob('./data/train/x/*.png'))\n",
    "y_img_paths = sorted(glob.glob('./data/train/y/*.png'))\n",
    "\n",
    "df_simul = pd.DataFrame({'x':x_img_paths, 'y':y_img_paths})\n",
    "df_simul.head()"
   ]
  },
  {
   "cell_type": "code",
   "execution_count": 6,
   "id": "74800a2d",
   "metadata": {
    "execution": {
     "iopub.execute_input": "2022-11-13T04:03:09.961894Z",
     "iopub.status.busy": "2022-11-13T04:03:09.961254Z",
     "iopub.status.idle": "2022-11-13T04:03:09.967110Z",
     "shell.execute_reply": "2022-11-13T04:03:09.966490Z",
     "shell.execute_reply.started": "2022-11-13T04:03:09.961866Z"
    }
   },
   "outputs": [
    {
     "data": {
      "text/plain": [
       "'2015_DMG_1LB_000006.png'"
      ]
     },
     "execution_count": 6,
     "metadata": {},
     "output_type": "execute_result"
    }
   ],
   "source": [
    "df_simul.iloc[0, 0].split('/')[-1]"
   ]
  },
  {
   "cell_type": "code",
   "execution_count": 7,
   "id": "ae1cedef",
   "metadata": {
    "execution": {
     "iopub.execute_input": "2022-11-13T04:08:43.000311Z",
     "iopub.status.busy": "2022-11-13T04:08:42.999707Z",
     "iopub.status.idle": "2022-11-13T04:58:17.627551Z",
     "shell.execute_reply": "2022-11-13T04:58:17.626896Z",
     "shell.execute_reply.started": "2022-11-13T04:08:43.000279Z"
    }
   },
   "outputs": [
    {
     "name": "stderr",
     "output_type": "stream",
     "text": [
      "100%|██████████| 12000/12000 [49:34<00:00,  4.03it/s] \n"
     ]
    }
   ],
   "source": [
    "from os.path import join as opj\n",
    "\n",
    "removeFile = True\n",
    "\n",
    "Train_dir_1 = f'./data/Train/x'\n",
    "os.makedirs(Train_dir_1, exist_ok=True)\n",
    "Train_dir_2 = f'./data/Train/y'\n",
    "os.makedirs(Train_dir_2, exist_ok=True)\n",
    "\n",
    "for idx in tqdm(range(len(df_simul))):\n",
    "    img = cv2.imread(df_simul.iloc[idx, 0])\n",
    "    imgname = df_simul.iloc[idx, 0].split('/')[-1]\n",
    "    \n",
    "    im1 = img[:, :754]\n",
    "    im2 = img[:, 754:]\n",
    "    \n",
    "    im1 = cv2.resize(im1, (320, 320), interpolation=cv2.INTER_NEAREST)\n",
    "    im2 = cv2.resize(im2, (320, 320), interpolation=cv2.INTER_NEAREST)\n",
    "    \n",
    "    im1 = cv2.rotate(im1, cv2.ROTATE_90_CLOCKWISE)\n",
    "    im2 = cv2.rotate(im2, cv2.ROTATE_90_CLOCKWISE)\n",
    "    img2 = cv2.hconcat([im1, im2])\n",
    "    \n",
    "    im1 = cv2.rotate(im1, cv2.ROTATE_90_CLOCKWISE)\n",
    "    im2 = cv2.rotate(im2, cv2.ROTATE_90_CLOCKWISE)\n",
    "    img3 = cv2.hconcat([im1, im2])\n",
    "    \n",
    "    im1 = cv2.rotate(im1, cv2.ROTATE_90_CLOCKWISE)\n",
    "    im2 = cv2.rotate(im2, cv2.ROTATE_90_CLOCKWISE)\n",
    "    img4 = cv2.hconcat([im1, im2])\n",
    "\n",
    "    label = cv2.imread(df_simul.iloc[idx, 1], cv2.IMREAD_GRAYSCALE)\n",
    "    labelname = df_simul.iloc[idx, 1].split('/')[-1]\n",
    "    \n",
    "    lab1 = label[:, :754]\n",
    "    lab2 = label[:, 754:]\n",
    "    \n",
    "    lab1 = cv2.resize(lab1, (320, 320), interpolation=cv2.INTER_NEAREST)\n",
    "    lab2 = cv2.resize(lab2, (320, 320), interpolation=cv2.INTER_NEAREST)\n",
    "    \n",
    "    lab1 = cv2.rotate(lab1, cv2.ROTATE_90_CLOCKWISE)\n",
    "    lab2 = cv2.rotate(lab2, cv2.ROTATE_90_CLOCKWISE)\n",
    "    label2 = cv2.hconcat([lab1, lab2])\n",
    "    \n",
    "    lab1 = cv2.rotate(lab1, cv2.ROTATE_90_CLOCKWISE)\n",
    "    lab2 = cv2.rotate(lab2, cv2.ROTATE_90_CLOCKWISE)\n",
    "    label3 = cv2.hconcat([lab1, lab2])\n",
    "    \n",
    "    lab1 = cv2.rotate(lab1, cv2.ROTATE_90_CLOCKWISE)\n",
    "    lab2 = cv2.rotate(lab2, cv2.ROTATE_90_CLOCKWISE)\n",
    "    label4 = cv2.hconcat([lab1, lab2])\n",
    "    \n",
    "    save_path_1 = opj(Train_dir_1, f'r0_{imgname}')\n",
    "    save_path_2 = opj(Train_dir_2, f'r0_{labelname}')\n",
    "    save_path_3 = opj(Train_dir_1, f'r1_{imgname}')\n",
    "    save_path_4 = opj(Train_dir_2, f'r1_{labelname}')\n",
    "    save_path_5 = opj(Train_dir_1, f'r2_{imgname}')\n",
    "    save_path_6 = opj(Train_dir_2, f'r2_{labelname}')\n",
    "    save_path_7 = opj(Train_dir_1, f'r3_{imgname}')\n",
    "    save_path_8 = opj(Train_dir_2, f'r3_{labelname}')\n",
    "        \n",
    "    cv2.imwrite(save_path_1, img)\n",
    "    cv2.imwrite(save_path_2, label)\n",
    "    cv2.imwrite(save_path_3, img2)\n",
    "    cv2.imwrite(save_path_4, label2)\n",
    "    cv2.imwrite(save_path_5, img3)\n",
    "    cv2.imwrite(save_path_6, label3)\n",
    "    cv2.imwrite(save_path_7, img4)\n",
    "    cv2.imwrite(save_path_8, label4)\n",
    "    \n",
    "    if removeFile:\n",
    "        os.remove(df_simul.iloc[idx, 0])\n",
    "        os.remove(df_simul.iloc[idx, 1])"
   ]
  },
  {
   "cell_type": "code",
   "execution_count": null,
   "id": "c26988ce",
   "metadata": {},
   "outputs": [],
   "source": []
  }
 ],
 "metadata": {
  "kernelspec": {
   "display_name": "Python 3 (ipykernel)",
   "language": "python",
   "name": "python3"
  },
  "language_info": {
   "codemirror_mode": {
    "name": "ipython",
    "version": 3
   },
   "file_extension": ".py",
   "mimetype": "text/x-python",
   "name": "python",
   "nbconvert_exporter": "python",
   "pygments_lexer": "ipython3",
   "version": "3.9.13"
  }
 },
 "nbformat": 4,
 "nbformat_minor": 5
}
