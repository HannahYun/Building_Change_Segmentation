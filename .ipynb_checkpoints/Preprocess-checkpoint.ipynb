{
 "cells": [
  {
   "cell_type": "code",
   "execution_count": 1,
   "id": "d0c98af4",
   "metadata": {},
   "outputs": [],
   "source": [
    "import random\n",
    "import pandas as pd\n",
    "import numpy as np\n",
    "import os\n",
    "import glob\n",
    "import cv2\n",
    "\n",
    "import torch\n",
    "import torch.nn as nn\n",
    "import torch.optim as optim\n",
    "import torch.nn.functional as F\n",
    "import torchvision\n",
    "from torch.utils.data import Dataset, DataLoader\n",
    "\n",
    "import matplotlib.pyplot as plt\n",
    "\n",
    "from tqdm import tqdm\n",
    "from sklearn.metrics import mean_squared_error\n",
    "from sklearn.model_selection import train_test_split\n",
    "from datetime import datetime\n",
    "\n",
    "import warnings\n",
    "warnings.filterwarnings(action='ignore') "
   ]
  },
  {
   "cell_type": "code",
   "execution_count": 2,
   "id": "746e09e5",
   "metadata": {},
   "outputs": [
    {
     "data": {
      "text/html": [
       "<div>\n",
       "<style scoped>\n",
       "    .dataframe tbody tr th:only-of-type {\n",
       "        vertical-align: middle;\n",
       "    }\n",
       "\n",
       "    .dataframe tbody tr th {\n",
       "        vertical-align: top;\n",
       "    }\n",
       "\n",
       "    .dataframe thead th {\n",
       "        text-align: right;\n",
       "    }\n",
       "</style>\n",
       "<table border=\"1\" class=\"dataframe\">\n",
       "  <thead>\n",
       "    <tr style=\"text-align: right;\">\n",
       "      <th></th>\n",
       "      <th>x</th>\n",
       "      <th>y</th>\n",
       "    </tr>\n",
       "  </thead>\n",
       "  <tbody>\n",
       "    <tr>\n",
       "      <th>0</th>\n",
       "      <td>./train/x\\2015_DMG_1LB_000006.png</td>\n",
       "      <td>./train/y\\2015_DMG_1LB_000006.png</td>\n",
       "    </tr>\n",
       "    <tr>\n",
       "      <th>1</th>\n",
       "      <td>./train/x\\2015_DMG_1LB_000008.png</td>\n",
       "      <td>./train/y\\2015_DMG_1LB_000008.png</td>\n",
       "    </tr>\n",
       "    <tr>\n",
       "      <th>2</th>\n",
       "      <td>./train/x\\2015_DMG_1LB_000014.png</td>\n",
       "      <td>./train/y\\2015_DMG_1LB_000014.png</td>\n",
       "    </tr>\n",
       "    <tr>\n",
       "      <th>3</th>\n",
       "      <td>./train/x\\2015_DMG_1LB_000016.png</td>\n",
       "      <td>./train/y\\2015_DMG_1LB_000016.png</td>\n",
       "    </tr>\n",
       "    <tr>\n",
       "      <th>4</th>\n",
       "      <td>./train/x\\2015_DMG_1LB_000038.png</td>\n",
       "      <td>./train/y\\2015_DMG_1LB_000038.png</td>\n",
       "    </tr>\n",
       "  </tbody>\n",
       "</table>\n",
       "</div>"
      ],
      "text/plain": [
       "                                   x                                  y\n",
       "0  ./train/x\\2015_DMG_1LB_000006.png  ./train/y\\2015_DMG_1LB_000006.png\n",
       "1  ./train/x\\2015_DMG_1LB_000008.png  ./train/y\\2015_DMG_1LB_000008.png\n",
       "2  ./train/x\\2015_DMG_1LB_000014.png  ./train/y\\2015_DMG_1LB_000014.png\n",
       "3  ./train/x\\2015_DMG_1LB_000016.png  ./train/y\\2015_DMG_1LB_000016.png\n",
       "4  ./train/x\\2015_DMG_1LB_000038.png  ./train/y\\2015_DMG_1LB_000038.png"
      ]
     },
     "execution_count": 2,
     "metadata": {},
     "output_type": "execute_result"
    }
   ],
   "source": [
    "x_img_paths = sorted(glob.glob('.data/train/x/*.png'))\n",
    "y_img_paths = sorted(glob.glob('.data/train/y/*.png'))\n",
    "\n",
    "df_simul = pd.DataFrame({'x':x_img_paths, 'y':y_img_paths})\n",
    "df_simul.head()"
   ]
  },
  {
   "cell_type": "code",
   "execution_count": 3,
   "id": "74800a2d",
   "metadata": {},
   "outputs": [
    {
     "data": {
      "text/plain": [
       "'2015_DMG_1LB_000006.png'"
      ]
     },
     "execution_count": 3,
     "metadata": {},
     "output_type": "execute_result"
    }
   ],
   "source": [
    "df_simul.iloc[0, 0].split('\\\\')[-1]"
   ]
  },
  {
   "cell_type": "code",
   "execution_count": 12,
   "id": "ae1cedef",
   "metadata": {},
   "outputs": [
    {
     "name": "stderr",
     "output_type": "stream",
     "text": [
      "100%|██████████████████████████████████████████████████████████████████████████████| 3000/3000 [05:34<00:00,  8.96it/s]\n"
     ]
    }
   ],
   "source": [
    "from os.path import join as opj\n",
    "\n",
    "removeFile = True\n",
    "\n",
    "Train_dir_1 = f'./data2/train/x'\n",
    "os.makedirs(Train_dir_1, exist_ok=True)\n",
    "Train_dir_2 = f'./data2/train/y'\n",
    "os.makedirs(Train_dir_2, exist_ok=True)\n",
    "\n",
    "for idx in tqdm(range(len(df_simul))):\n",
    "    img = cv2.imread(df_simul.iloc[idx, 0])\n",
    "    imgname = df_simul.iloc[idx, 0].split('\\\\')[-1]\n",
    "    \n",
    "    im1 = img[:, :754]\n",
    "    im2 = img[:, 754:]\n",
    "    \n",
    "    im1 = cv2.resize(im1, (320, 320), interpolation=cv2.INTER_NEAREST)\n",
    "    im2 = cv2.resize(im2, (320, 320), interpolation=cv2.INTER_NEAREST)\n",
    "    \n",
    "    im1 = cv2.rotate(im1, cv2.ROTATE_90_CLOCKWISE)\n",
    "    im2 = cv2.rotate(im2, cv2.ROTATE_90_CLOCKWISE)\n",
    "    img2 = cv2.hconcat([im1, im2])\n",
    "    \n",
    "    im1 = cv2.rotate(im1, cv2.ROTATE_90_CLOCKWISE)\n",
    "    im2 = cv2.rotate(im2, cv2.ROTATE_90_CLOCKWISE)\n",
    "    img3 = cv2.hconcat([im1, im2])\n",
    "    \n",
    "    im1 = cv2.rotate(im1, cv2.ROTATE_90_CLOCKWISE)\n",
    "    im2 = cv2.rotate(im2, cv2.ROTATE_90_CLOCKWISE)\n",
    "    img4 = cv2.hconcat([im1, im2])\n",
    "\n",
    "    label = cv2.imread(df_simul.iloc[idx, 1], cv2.IMREAD_GRAYSCALE)\n",
    "    labelname = df_simul.iloc[idx, 1].split('\\\\')[-1]\n",
    "    \n",
    "    lab1 = label[:, :754]\n",
    "    lab2 = label[:, 754:]\n",
    "    \n",
    "    lab1 = cv2.resize(lab1, (320, 320), interpolation=cv2.INTER_NEAREST)\n",
    "    lab2 = cv2.resize(lab2, (320, 320), interpolation=cv2.INTER_NEAREST)\n",
    "    \n",
    "    lab1 = cv2.rotate(lab1, cv2.ROTATE_90_CLOCKWISE)\n",
    "    lab2 = cv2.rotate(lab2, cv2.ROTATE_90_CLOCKWISE)\n",
    "    label2 = cv2.hconcat([lab1, lab2])\n",
    "    \n",
    "    lab1 = cv2.rotate(lab1, cv2.ROTATE_90_CLOCKWISE)\n",
    "    lab2 = cv2.rotate(lab2, cv2.ROTATE_90_CLOCKWISE)\n",
    "    label3 = cv2.hconcat([lab1, lab2])\n",
    "    \n",
    "    lab1 = cv2.rotate(lab1, cv2.ROTATE_90_CLOCKWISE)\n",
    "    lab2 = cv2.rotate(lab2, cv2.ROTATE_90_CLOCKWISE)\n",
    "    label4 = cv2.hconcat([lab1, lab2])\n",
    "    \n",
    "    save_path_1 = opj(Train_dir_1, f'r0_{imgname}')\n",
    "    save_path_2 = opj(Train_dir_2, f'r0_{labelname}')\n",
    "    save_path_3 = opj(Train_dir_1, f'r1_{imgname}')\n",
    "    save_path_4 = opj(Train_dir_2, f'r1_{labelname}')\n",
    "    save_path_5 = opj(Train_dir_1, f'r2_{imgname}')\n",
    "    save_path_6 = opj(Train_dir_2, f'r2_{labelname}')\n",
    "    save_path_7 = opj(Train_dir_1, f'r3_{imgname}')\n",
    "    save_path_8 = opj(Train_dir_2, f'r3_{labelname}')\n",
    "        \n",
    "    cv2.imwrite(save_path_1, img)\n",
    "    cv2.imwrite(save_path_2, label)\n",
    "    cv2.imwrite(save_path_3, img2)\n",
    "    cv2.imwrite(save_path_4, label2)\n",
    "    cv2.imwrite(save_path_5, img3)\n",
    "    cv2.imwrite(save_path_6, label3)\n",
    "    cv2.imwrite(save_path_7, img4)\n",
    "    cv2.imwrite(save_path_8, label4)\n",
    "    \n",
    "    if removeFile:\n",
    "        os.remove(df_simul.iloc[idx, 0])\n",
    "        os.remove(df_simul.iloc[idx, 1])"
   ]
  },
  {
   "cell_type": "code",
   "execution_count": null,
   "id": "c26988ce",
   "metadata": {},
   "outputs": [],
   "source": []
  }
 ],
 "metadata": {
  "kernelspec": {
   "display_name": "Python 3 (ipykernel)",
   "language": "python",
   "name": "python3"
  },
  "language_info": {
   "codemirror_mode": {
    "name": "ipython",
    "version": 3
   },
   "file_extension": ".py",
   "mimetype": "text/x-python",
   "name": "python",
   "nbconvert_exporter": "python",
   "pygments_lexer": "ipython3",
   "version": "3.9.12"
  }
 },
 "nbformat": 4,
 "nbformat_minor": 5
}
